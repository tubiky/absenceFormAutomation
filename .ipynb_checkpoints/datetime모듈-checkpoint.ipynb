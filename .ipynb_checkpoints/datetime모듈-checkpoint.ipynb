{
 "cells": [
  {
   "cell_type": "code",
   "execution_count": 10,
   "id": "d62e6a6b-1b74-4b28-9365-7a83ff8e8bf2",
   "metadata": {},
   "outputs": [],
   "source": [
    "from datetime import date, datetime, timedelta\n",
    "from typing import Iterable, Set, Union"
   ]
  },
  {
   "cell_type": "code",
   "execution_count": 11,
   "id": "df23ac80-7224-4d18-a9b4-12e4609caac6",
   "metadata": {},
   "outputs": [],
   "source": [
    "HOLIDAYS = [\n",
    "    \"2025-08-15\",\n",
    "    \"2025-10-03\",\n",
    "    \"2025-10-05\",\n",
    "    \"2025-10-06\",\n",
    "    \"2025-10-07\",\n",
    "    \"2025-10-08\",\n",
    "    \"2025-10-09\",\n",
    "    \"2025-11-13\",\n",
    "    \"2025-12-25\",\n",
    "    \"2026-01-01\",\n",
    "    \"2026-01-28\",\n",
    "    \"2026-01-29\",\n",
    "    \"2026-01-30\",\n",
    "    \"2026-03-01\",\n",
    "]"
   ]
  },
  {
   "cell_type": "code",
   "execution_count": 46,
   "id": "889e1b67-c82c-424b-8b47-e56c90cc1f2d",
   "metadata": {},
   "outputs": [],
   "source": [
    "def to_date(d: Union[str, date]) -> date: \n",
    "    if isinstance(d, str): \n",
    "        print(d)\n",
    "        return datetime.strptime(d, \"%Y-%m-%d\").date()\n",
    "    else:\n",
    "        print(\"조건을 충족하지 않습니다.\")"
   ]
  },
  {
   "cell_type": "code",
   "execution_count": 53,
   "id": "59d35b32-f1fe-46bc-9386-e1065a7ec3c9",
   "metadata": {},
   "outputs": [],
   "source": [
    "# 재량휴업일(또는 공휴일) 집합 만들기\n",
    "\n",
    "def make_holiday_set(days: list) -> Set[date]: \n",
    "    return {to_date(d) for d in days}"
   ]
  },
  {
   "cell_type": "code",
   "execution_count": 54,
   "id": "1e8e8ded-fb8d-4762-b21f-0b076b76126d",
   "metadata": {},
   "outputs": [
    {
     "name": "stdout",
     "output_type": "stream",
     "text": [
      "조건을 충족하지 않습니다.\n"
     ]
    }
   ],
   "source": [
    "to_date(HOLIDAYS)"
   ]
  },
  {
   "cell_type": "code",
   "execution_count": 55,
   "id": "7018c9e3-713d-45b1-ab9a-9e114ed3d6b3",
   "metadata": {},
   "outputs": [
    {
     "name": "stdout",
     "output_type": "stream",
     "text": [
      "2025-08-15\n"
     ]
    },
    {
     "data": {
      "text/plain": [
       "datetime.date(2025, 8, 15)"
      ]
     },
     "execution_count": 55,
     "metadata": {},
     "output_type": "execute_result"
    }
   ],
   "source": [
    "to_date(HOLIDAYS[0])"
   ]
  },
  {
   "cell_type": "code",
   "execution_count": 74,
   "id": "2fb4e03d-6ae0-4dae-9ef5-c0f0822191ab",
   "metadata": {},
   "outputs": [],
   "source": [
    "def count_absent_days(from_date, to_date):\n",
    "    cnt = 0\n",
    "    start = datetime.strptime(from_date, \"%Y-%m-%d\").date()\n",
    "    end = datetime.strptime(to_date, \"%Y-%m-%d\").date()\n",
    "    \n",
    "    if start > end: # 이후의 날짜일 수록 크다고 판단\n",
    "        start, end = end, start\n",
    "\n",
    "    while start <= end:\n",
    "        if start.weekday() < 5:  # 0~4 = 월~금\n",
    "            cnt += 1\n",
    "        start += timedelta(days=1)\n",
    "    return cnt"
   ]
  },
  {
   "cell_type": "code",
   "execution_count": 75,
   "id": "f1fcc06a-f7a6-4ea2-b74c-f08008e935df",
   "metadata": {},
   "outputs": [
    {
     "data": {
      "text/plain": [
       "6"
      ]
     },
     "execution_count": 75,
     "metadata": {},
     "output_type": "execute_result"
    }
   ],
   "source": [
    "count_absent_days(\"2025-08-22\", \"2025-08-29\")"
   ]
  },
  {
   "cell_type": "code",
   "execution_count": null,
   "id": "6f0f2073-bd8a-423d-b3b5-553bac42989d",
   "metadata": {},
   "outputs": [],
   "source": []
  },
  {
   "cell_type": "code",
   "execution_count": null,
   "id": "41c8c343-cf17-4833-ab81-d92d3e0d69d3",
   "metadata": {},
   "outputs": [],
   "source": []
  }
 ],
 "metadata": {
  "kernelspec": {
   "display_name": "Python [conda env:base] *",
   "language": "python",
   "name": "conda-base-py"
  },
  "language_info": {
   "codemirror_mode": {
    "name": "ipython",
    "version": 3
   },
   "file_extension": ".py",
   "mimetype": "text/x-python",
   "name": "python",
   "nbconvert_exporter": "python",
   "pygments_lexer": "ipython3",
   "version": "3.13.5"
  }
 },
 "nbformat": 4,
 "nbformat_minor": 5
}
